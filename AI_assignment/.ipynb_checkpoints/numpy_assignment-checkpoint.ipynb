{
 "cells": [
  {
   "cell_type": "code",
   "execution_count": 5,
   "id": "99a58388-9c3f-4937-8505-db54bef048b9",
   "metadata": {},
   "outputs": [],
   "source": [
    "import numpy as n\n"
   ]
  },
  {
   "cell_type": "code",
   "execution_count": 6,
   "id": "4ede4d0d-efe6-4b19-bc90-14fa92e3e208",
   "metadata": {},
   "outputs": [
    {
     "name": "stdout",
     "output_type": "stream",
     "text": [
      "NBYTES = 32\n"
     ]
    }
   ],
   "source": [
    "#Q1\n",
    "def memory():\n",
    "    n1 = n.array([1,7,13,105])\n",
    "    print(f\"NBYTES = {n1.nbytes}\")\n",
    "memory()"
   ]
  },
  {
   "cell_type": "code",
   "execution_count": 7,
   "id": "3c6b1f5e-f8b5-41f1-9023-6b5d48a436b2",
   "metadata": {},
   "outputs": [
    {
     "name": "stdout",
     "output_type": "stream",
     "text": [
      "[ True False False False]\n",
      "[ True False  True False]\n",
      "[False  True False  True]\n",
      "[False  True  True  True]\n"
     ]
    }
   ],
   "source": [
    "#Q2\n",
    "def comparision():\n",
    "    arr1 = n.array([11,22,33,44])\n",
    "    arr2 = n.array([10,25,33,45])\n",
    "\n",
    "    print(n.greater(arr1,arr2))\n",
    "    print(n.greater_equal(arr1,arr2))\n",
    "    print(n.less(arr1,arr2))\n",
    "    print(n.less_equal(arr1,arr2))\n",
    "\n",
    "comparision()\n",
    "    "
   ]
  },
  {
   "cell_type": "code",
   "execution_count": 8,
   "id": "288923a3-df0a-429f-858c-d3ed4efbfafa",
   "metadata": {},
   "outputs": [
    {
     "name": "stdout",
     "output_type": "stream",
     "text": [
      "[0. 0. 0. 0. 0. 0. 0. 0. 0. 0.]\n",
      "[1. 1. 1. 1. 1. 1. 1. 1. 1. 1.]\n",
      "[5. 5. 5. 5. 5. 5. 5. 5. 5. 5.]\n",
      "[10. 10. 10. 10. 10. 10. 10. 10. 10. 10.]\n",
      "[20. 20. 20. 20. 20. 20. 20. 20. 20. 20.]\n",
      "[50. 50. 50. 50. 50. 50. 50. 50. 50. 50.]\n"
     ]
    }
   ],
   "source": [
    "#Q3\n",
    "def function1():\n",
    "    arr1 = n.zeros(10)\n",
    "    arr2 = n.ones(10)\n",
    "    arr3 = n.ones(10)*5\n",
    "    arr4 = n.ones(10)*10\n",
    "    arr5 = n.ones(10)*20\n",
    "    arr6 = n.ones(10)*50\n",
    "    \n",
    "    print(arr1)\n",
    "    print(arr2)\n",
    "    print(arr3)\n",
    "    print(arr4)\n",
    "    print(arr5)\n",
    "    print(arr6)\n",
    "    \n",
    "function1()\n"
   ]
  },
  {
   "cell_type": "code",
   "execution_count": 9,
   "id": "b491ce2d-d1bd-4e87-ab33-1aa5da4df12f",
   "metadata": {},
   "outputs": [
    {
     "name": "stdout",
     "output_type": "stream",
     "text": [
      "[30 31 32 33 34 35 36 37 38 39 40 41 42 43 44 45 46 47 48 49 50 51 52 53\n",
      " 54 55 56 57 58 59 60 61 62 63 64 65 66 67 68 69 70]\n"
     ]
    }
   ],
   "source": [
    "#Q4\n",
    "def integer():\n",
    "    arr1 = n.arange(30,71)\n",
    "    print(arr1)\n",
    "\n",
    "integer()\n",
    "    "
   ]
  },
  {
   "cell_type": "code",
   "execution_count": 10,
   "id": "59559ff2-638d-4510-924f-91d77bc4b38b",
   "metadata": {},
   "outputs": [
    {
     "name": "stdout",
     "output_type": "stream",
     "text": [
      "[50 51 52 53 54 55 56 57 58 59 60 61 62 63 64 65 66 67 68 69 70 71 72 73\n",
      " 74 75 76 77 78 79 80 81 82 83 84 85 86 87 88 89 90 91 92 93 94 95]\n"
     ]
    }
   ],
   "source": [
    "#Q5\n",
    "def integer1():\n",
    "    arr1 = n.arange(50,96)\n",
    "    print(arr1)\n",
    "\n",
    "integer1()"
   ]
  },
  {
   "cell_type": "code",
   "execution_count": 11,
   "id": "2959567a-8eb4-44dc-9861-780b81a00b1f",
   "metadata": {},
   "outputs": [
    {
     "name": "stdout",
     "output_type": "stream",
     "text": [
      "[20 22 24 26 28 30 32 34 36 38 40 42 44 46 48 50 52 54 56 58 60 62 64 66\n",
      " 68 70 72 74 76 78 80]\n"
     ]
    }
   ],
   "source": [
    "#Q6\n",
    "def even_num():\n",
    "    arr1 = n.arange(20,81,2)\n",
    "    print(arr1)\n",
    "even_num()"
   ]
  },
  {
   "cell_type": "code",
   "execution_count": 12,
   "id": "4b5238fa-526a-4302-b89d-98c6e672d334",
   "metadata": {},
   "outputs": [
    {
     "name": "stdout",
     "output_type": "stream",
     "text": [
      "[21 23 25 27 29 31 33 35 37 39 41 43 45 47 49 51 53 55 57 59 61 63 65 67\n",
      " 69 71 73 75 77 79]\n"
     ]
    }
   ],
   "source": [
    "#Q7\n",
    "def odd_num():\n",
    "    arr1 = n.arange(21,80,2)\n",
    "    print(arr1)\n",
    "odd_num()"
   ]
  },
  {
   "cell_type": "code",
   "execution_count": 13,
   "id": "41ef7723-61da-42c5-89ec-c248d2d03e46",
   "metadata": {},
   "outputs": [
    {
     "name": "stdout",
     "output_type": "stream",
     "text": [
      "[31 16 14 25 10 36 29 11 25 14 18 39 35 34 37]\n"
     ]
    }
   ],
   "source": [
    "#Q8\n",
    "def random_num():\n",
    "    arr1 = n.random.randint(10,40,15)\n",
    "    print(arr1)\n",
    "random_num()"
   ]
  },
  {
   "cell_type": "code",
   "execution_count": 14,
   "id": "f92b6298-3053-4c4f-a233-3178641a1ba7",
   "metadata": {},
   "outputs": [
    {
     "name": "stdout",
     "output_type": "stream",
     "text": [
      "[42 49 42 42 35 33 40 43 48 35]\n"
     ]
    }
   ],
   "source": [
    "#Q9\n",
    "def random_num1():\n",
    "    arr1 = n.random.randint(30,50,10)\n",
    "    print(arr1)\n",
    "random_num1()"
   ]
  },
  {
   "cell_type": "code",
   "execution_count": 15,
   "id": "2889cc26-7fd4-4a5f-b3de-6dcfe0f2e605",
   "metadata": {},
   "outputs": [
    {
     "name": "stdout",
     "output_type": "stream",
     "text": [
      "random num = [63 74 55 57 65 64 62 61 74 56 75 52 88 53 71 81 75 68 84 74]\n"
     ]
    }
   ],
   "source": [
    "#Q10\n",
    "def random_num2():\n",
    "    arr1 = n.random.randint(50,90,20)\n",
    "    print(f\"random num = {arr1}\")\n",
    "random_num2()"
   ]
  },
  {
   "cell_type": "code",
   "execution_count": 16,
   "id": "120239f2-2830-4daa-bc97-211e63339ab2",
   "metadata": {},
   "outputs": [
    {
     "name": "stdout",
     "output_type": "stream",
     "text": [
      "sum = [10 33 60 15]\n",
      "sub = [ 6 11 40  9]\n",
      "multiply = [ 16 242 500  36]\n",
      "divide = [4. 2. 5. 4.]\n"
     ]
    }
   ],
   "source": [
    "#Q11\n",
    "def arithmetic_operation():\n",
    "    arr1 = n.array([8,22,50,12])\n",
    "    arr2 = n.array([2,11,10,3])\n",
    "\n",
    "    print(f\"sum = {n.add(arr1,arr2)}\")\n",
    "    print(f\"sub = {n.subtract(arr1,arr2)}\")\n",
    "    print(f\"multiply = {n.multiply(arr1,arr2)}\")\n",
    "    print(f\"divide = {n.divide(arr1,arr2)}\")\n",
    "\n",
    "arithmetic_operation()"
   ]
  },
  {
   "cell_type": "code",
   "execution_count": 17,
   "id": "43bb4777-eb18-4d2b-8d94-90d1eaec2c9c",
   "metadata": {},
   "outputs": [
    {
     "name": "stdout",
     "output_type": "stream",
     "text": [
      "[[10 11 12 13]\n",
      " [14 15 16 17]\n",
      " [18 19 20 21]]\n"
     ]
    }
   ],
   "source": [
    "#Q12\n",
    "def matrix():\n",
    "     mat = n.arange(10,22).reshape(3,4)\n",
    "     print(mat)\n",
    "matrix()"
   ]
  },
  {
   "cell_type": "code",
   "execution_count": 18,
   "id": "8f55710b-d33b-4f4e-b142-5daf98449811",
   "metadata": {},
   "outputs": [
    {
     "name": "stdout",
     "output_type": "stream",
     "text": [
      "[[1. 0. 0.]\n",
      " [0. 1. 0.]\n",
      " [0. 0. 1.]]\n"
     ]
    }
   ],
   "source": [
    "#Q13\n",
    "def matrix1():\n",
    "    mat = n.eye(3,3)\n",
    "    print(mat)\n",
    "matrix1()\n"
   ]
  },
  {
   "cell_type": "code",
   "execution_count": 19,
   "id": "97ba8c25-de27-4449-9bdc-1750a3d270aa",
   "metadata": {},
   "outputs": [
    {
     "name": "stdout",
     "output_type": "stream",
     "text": [
      "[[1. 0. 0.]\n",
      " [0. 1. 0.]\n",
      " [0. 0. 1.]]\n",
      "row & column : (3, 3)\n"
     ]
    }
   ],
   "source": [
    "#Q14\n",
    "def matrix2():\n",
    "    mat = n.eye(3,3)\n",
    "    print(mat)\n",
    "\n",
    "    print(f\"row & column : {mat.shape}\")\n",
    "matrix2()"
   ]
  },
  {
   "cell_type": "code",
   "execution_count": 20,
   "id": "242bd349-f902-427f-b919-b2347716a45b",
   "metadata": {},
   "outputs": [
    {
     "name": "stdout",
     "output_type": "stream",
     "text": [
      "[[1 0 0 0 0]\n",
      " [0 2 0 0 0]\n",
      " [0 0 3 0 0]\n",
      " [0 0 0 4 0]\n",
      " [0 0 0 0 5]]\n"
     ]
    }
   ],
   "source": [
    "#Q15\n",
    "def matrix3():\n",
    "    mat = n.diag([1,2,3,4,5])\n",
    "    print(mat)\n",
    "matrix3()\n"
   ]
  },
  {
   "cell_type": "code",
   "execution_count": 21,
   "id": "911b9c47-6cdf-4f45-b155-20ab585fe170",
   "metadata": {},
   "outputs": [
    {
     "name": "stdout",
     "output_type": "stream",
     "text": [
      "[[[7.30127699e-01 8.31041324e-01 1.01851792e-01]\n",
      "  [7.95627765e-01 1.78856340e-01 5.33935142e-01]\n",
      "  [2.28131224e-01 2.14019145e-01 1.61102239e-01]]\n",
      "\n",
      " [[4.95881465e-01 2.40104908e-01 3.01069217e-01]\n",
      "  [9.64163237e-01 7.36606643e-02 8.23897204e-01]\n",
      "  [8.75136129e-02 5.53227099e-01 6.47904279e-01]]\n",
      "\n",
      " [[4.58283082e-04 7.17336147e-01 9.42805171e-01]\n",
      "  [8.75722759e-01 4.04613195e-01 4.75230474e-01]\n",
      "  [6.60993735e-01 4.28889164e-01 6.87783993e-01]]]\n"
     ]
    }
   ],
   "source": [
    "#Q16\n",
    "def matrix4():\n",
    "    mat = n.random.random([3,3,3])\n",
    "    print(mat)\n",
    "matrix4()"
   ]
  },
  {
   "cell_type": "code",
   "execution_count": 22,
   "id": "2736b94c-2858-45f0-8b21-549b52190b32",
   "metadata": {},
   "outputs": [
    {
     "name": "stdout",
     "output_type": "stream",
     "text": [
      "[[[0.3863084  0.7227134  0.56271596 0.89575198]\n",
      "  [0.54747578 0.61520549 0.75960056 0.22649899]\n",
      "  [0.19199868 0.66348768 0.79156076 0.22091802]]\n",
      "\n",
      " [[0.04428087 0.23463117 0.05285895 0.86607444]\n",
      "  [0.59238681 0.07624564 0.3002607  0.15467283]\n",
      "  [0.8844225  0.83176305 0.61444862 0.81177928]]]\n"
     ]
    }
   ],
   "source": [
    "#Q17\n",
    "def matrix5():\n",
    "    mat = n.random.random([2,3,4])\n",
    "    print(mat)\n",
    "matrix5()"
   ]
  },
  {
   "cell_type": "code",
   "execution_count": 23,
   "id": "cea37878-f5d8-4356-a874-adfad6f09859",
   "metadata": {},
   "outputs": [
    {
     "name": "stdout",
     "output_type": "stream",
     "text": [
      "list = [11, 22, 33, 44, 55, 66]\n",
      "one-dimensional array = [11 22 33 44 55 66]\n"
     ]
    }
   ],
   "source": [
    "#Q18\n",
    "def dimention():\n",
    "    l = [11,22,33,44,55,66]\n",
    "    print(f\"list = {l}\")\n",
    "    arr1 = n.array(l)\n",
    "    print(f\"one-dimensional array = {arr1}\")\n",
    "dimention()"
   ]
  },
  {
   "cell_type": "code",
   "execution_count": 24,
   "id": "d3b1e9bd-b4e6-4a03-94e7-1109fe6f16bb",
   "metadata": {},
   "outputs": [
    {
     "name": "stdout",
     "output_type": "stream",
     "text": [
      "[[ 2  3  4]\n",
      " [ 5  6  7]\n",
      " [ 8  9 10]]\n"
     ]
    }
   ],
   "source": [
    "#Q19\n",
    "def matrix6():\n",
    "    mat = n.arange(2,11).reshape(3,3)\n",
    "    print(mat)\n",
    "matrix6()"
   ]
  },
  {
   "cell_type": "code",
   "execution_count": 25,
   "id": "d2a8d6ff-db1e-4457-aeba-7ec9440bb872",
   "metadata": {},
   "outputs": [
    {
     "name": "stdout",
     "output_type": "stream",
     "text": [
      "[12 13 14 15 16 17 18 19 20 21 22 23 24 25 26 27 28 29 30 31 32 33 34 35\n",
      " 36 37 38]\n"
     ]
    }
   ],
   "source": [
    "#Q20\n",
    "def array1():\n",
    "    arr1 = n.arange(12,39)\n",
    "    print(arr1)\n",
    "array1()"
   ]
  },
  {
   "cell_type": "code",
   "execution_count": 27,
   "id": "e22e85da-4dd1-4e34-9066-29181597cfd3",
   "metadata": {},
   "outputs": [
    {
     "name": "stdout",
     "output_type": "stream",
     "text": [
      "[88 77 66 55 44 33 22 11]\n"
     ]
    }
   ],
   "source": [
    "#Q21\n",
    "def reverse1():\n",
    "    arr1 = n.array([11,22,33,44,55,66,77,88])\n",
    "\n",
    "    reverse_array = arr1[::-1]\n",
    "    \n",
    "    print(reverse_array)\n",
    " \n",
    "reverse1()"
   ]
  },
  {
   "cell_type": "code",
   "execution_count": 30,
   "id": "74b22974-6f33-4d78-9700-9b43405495ee",
   "metadata": {},
   "outputs": [
    {
     "name": "stdout",
     "output_type": "stream",
     "text": [
      "[11. 22. 33. 44. 55. 66. 77. 88.]\n",
      "Dtype = float16\n"
     ]
    }
   ],
   "source": [
    "#Q22\n",
    "def convert_dtype():\n",
    "    arr1 = n.array([11,22,33,44,55,66,77,88], dtype = n.float16)   \n",
    "    print(arr1)\n",
    "    print(f\"Dtype = {arr1.dtype}\")\n",
    "convert_dtype()"
   ]
  },
  {
   "cell_type": "code",
   "execution_count": 32,
   "id": "1f7b06bd-4003-43cd-b081-bf0160b63ee6",
   "metadata": {},
   "outputs": [
    {
     "name": "stdout",
     "output_type": "stream",
     "text": [
      "[10 20 30 40]\n",
      "Type = <class 'numpy.ndarray'>\n"
     ]
    }
   ],
   "source": [
    "#Q23\n",
    "def list_array():\n",
    "    l = [10,20,30,40]\n",
    "    arr = n.array(l)\n",
    "    print(arr)\n",
    "    print(f\"Type = {type(arr)}\")\n",
    "list_array()"
   ]
  },
  {
   "cell_type": "code",
   "execution_count": 37,
   "id": "df7404ce-101b-4334-bdf1-d26d32aa99a6",
   "metadata": {},
   "outputs": [
    {
     "name": "stdout",
     "output_type": "stream",
     "text": [
      "Remainder = [2 1 0 2 1 0]\n"
     ]
    }
   ],
   "source": [
    "#Q24\n",
    "def remainder():\n",
    "    arr = n.array([11,22,33,44,55,66])\n",
    "    print(f\"Remainder = {n.remainder(arr,3)}\")\n",
    "remainder()"
   ]
  },
  {
   "cell_type": "code",
   "execution_count": 41,
   "id": "ffd50d45-cf30-454c-b446-c03e17bd4619",
   "metadata": {},
   "outputs": [
    {
     "name": "stdout",
     "output_type": "stream",
     "text": [
      "[21 24 27 30 33 36 39 42 45 48]\n",
      "Remainder = [0 0 0 0 0 0 0 0 0 0]\n"
     ]
    }
   ],
   "source": [
    "#Q25\n",
    "def remainder1():\n",
    "    arr = n.arange(21,50,3)\n",
    "    print(arr)\n",
    "    print(f\"Remainder = {n.remainder(arr,3)}\")\n",
    "remainder1()\n",
    "    "
   ]
  },
  {
   "cell_type": "code",
   "execution_count": null,
   "id": "e3fdefcd-5a68-4ae6-9525-98f85b6c6b16",
   "metadata": {},
   "outputs": [],
   "source": []
  }
 ],
 "metadata": {
  "kernelspec": {
   "display_name": "Python 3 (ipykernel)",
   "language": "python",
   "name": "python3"
  },
  "language_info": {
   "codemirror_mode": {
    "name": "ipython",
    "version": 3
   },
   "file_extension": ".py",
   "mimetype": "text/x-python",
   "name": "python",
   "nbconvert_exporter": "python",
   "pygments_lexer": "ipython3",
   "version": "3.10.12"
  }
 },
 "nbformat": 4,
 "nbformat_minor": 5
}
