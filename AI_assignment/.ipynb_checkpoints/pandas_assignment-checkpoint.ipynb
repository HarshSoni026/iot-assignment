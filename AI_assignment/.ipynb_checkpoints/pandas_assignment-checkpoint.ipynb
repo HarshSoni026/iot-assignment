{
 "cells": [
  {
   "cell_type": "code",
   "execution_count": 40,
   "id": "dde121e9-e90e-4eee-9d16-d23aae694778",
   "metadata": {},
   "outputs": [],
   "source": [
    "import numpy as np\n",
    "import pandas as pd"
   ]
  },
  {
   "cell_type": "code",
   "execution_count": 41,
   "id": "381ec243-658c-4d46-b5f3-8f6fba63eddd",
   "metadata": {},
   "outputs": [
    {
     "name": "stdout",
     "output_type": "stream",
     "text": [
      "0          Harsh Soni\n",
      "1          Abhay Soni\n",
      "2    Rishabh Kumrawat\n",
      "dtype: object\n"
     ]
    }
   ],
   "source": [
    "#Q1\n",
    "def one_dimensional_array():\n",
    "    arr = [\"Harsh Soni\",\"Abhay Soni\", \"Rishabh Kumrawat\"]\n",
    "    print(pd.Series(arr))\n",
    "one_dimensional_array()\n",
    "\n"
   ]
  },
  {
   "cell_type": "code",
   "execution_count": 112,
   "id": "9cbb2010-060c-4afb-98b9-61076e28d5c6",
   "metadata": {},
   "outputs": [
    {
     "name": "stdout",
     "output_type": "stream",
     "text": [
      "Panda_module_Series : \n",
      "0    11\n",
      "1    22\n",
      "2    33\n",
      "3    44\n",
      "4    55\n",
      "dtype: int64, \n",
      "Type : <class 'pandas.core.series.Series'>\n",
      "Python_list : [11, 22, 33, 44, 55], \n",
      "Type : <class 'list'>\n"
     ]
    }
   ],
   "source": [
    "#Q2\n",
    "def list_py():\n",
    "    series_s = pd.Series([11,22,33,44,55])\n",
    "    l1 = series_s.tolist()\n",
    "    print(f\"Panda_module_Series : \\n{series_s}, \\nType : {type(series_s)}\")\n",
    "    print(f\"Python_list : {l1}, \\nType : {type(l1)}\")\n",
    "\n",
    "list_py()"
   ]
  },
  {
   "cell_type": "code",
   "execution_count": 110,
   "id": "8c5f1285-08ac-40d0-9920-a8636621e924",
   "metadata": {},
   "outputs": [
    {
     "name": "stdout",
     "output_type": "stream",
     "text": [
      "Addition : \n",
      "0     3\n",
      "1     7\n",
      "2    11\n",
      "3    15\n",
      "4    19\n",
      "dtype: int64\n",
      "Subtraction : \n",
      "0    1\n",
      "1    1\n",
      "2    1\n",
      "3    1\n",
      "4    1\n",
      "dtype: int64\n",
      "Multiplication : \n",
      "0     2\n",
      "1    12\n",
      "2    30\n",
      "3    56\n",
      "4    90\n",
      "dtype: int64\n",
      "Division : \n",
      "0    2.000000\n",
      "1    1.333333\n",
      "2    1.200000\n",
      "3    1.142857\n",
      "4    1.111111\n",
      "dtype: float64\n"
     ]
    }
   ],
   "source": [
    "#Q3\n",
    "def arithmetic_operation():\n",
    "    S1 = pd.Series([2,4,6,8,10])\n",
    "    S2 = pd.Series([1,3,5,7,9])\n",
    "    add = S1+S2\n",
    "    sub = S1-S2\n",
    "    mul = S1*S2\n",
    "    div = S1/S2\n",
    "    \n",
    "    print(f\"Addition : \\n{add}\")\n",
    "    print(f\"Subtraction : \\n{sub}\")\n",
    "    print(f\"Multiplication : \\n{mul}\")\n",
    "    print(f\"Division : \\n{div}\")\n",
    "arithmetic_operation()"
   ]
  },
  {
   "cell_type": "code",
   "execution_count": 113,
   "id": "b5ab4115-c2fe-4be0-93ac-be70e00200a5",
   "metadata": {},
   "outputs": [
    {
     "name": "stdout",
     "output_type": "stream",
     "text": [
      "Dictionary : {'Name': 'Harsh', 'Age': 25, 'Company': 'BPCL'}\n",
      "Series : \n",
      "Name       Harsh\n",
      "Age           25\n",
      "Company     BPCL\n",
      "dtype: object\n"
     ]
    }
   ],
   "source": [
    "#Q4\n",
    "def disc_into_series():\n",
    "    d1 = {'Name' : 'Harsh', 'Age' : 25, 'Company' : 'BPCL'}\n",
    "    s1 = pd.Series(d1)\n",
    "    print(f\"Dictionary : {d1}\")\n",
    "    print(f\"Series : \\n{s1}\")\n",
    "disc_into_series()"
   ]
  },
  {
   "cell_type": "code",
   "execution_count": 114,
   "id": "a5ea7242-b612-4f55-90b2-6e25478be148",
   "metadata": {},
   "outputs": [
    {
     "name": "stdout",
     "output_type": "stream",
     "text": [
      "Numpy_array = [11 22 33 44 55]\n",
      "Pandas_series : \n",
      "0    11\n",
      "1    22\n",
      "2    33\n",
      "3    44\n",
      "4    55\n",
      "dtype: int64\n"
     ]
    }
   ],
   "source": [
    "#Q5\n",
    "def nparray_into_pdseries():\n",
    "    a1 = np.array([11,22,33,44,55])\n",
    "    s1 = pd.Series(a1)\n",
    "    print(f\"Numpy_array = {a1}\")\n",
    "    print(f\"Pandas_series : \\n{s1}\")\n",
    "nparray_into_pdseries()"
   ]
  },
  {
   "cell_type": "code",
   "execution_count": 50,
   "id": "6eb0ec6e-731a-4d56-9365-d830f94e50c0",
   "metadata": {},
   "outputs": [
    {
     "name": "stdout",
     "output_type": "stream",
     "text": [
      "0    11.0\n",
      "1    22.0\n",
      "2    33.0\n",
      "3    44.0\n",
      "4    55.0\n",
      "dtype: float64\n"
     ]
    }
   ],
   "source": [
    "#Q6\n",
    "def change_dtype():\n",
    "    s1 = pd.Series([11,22,33,44,55], dtype=float) \n",
    "    print(s1)\n",
    "\n",
    "change_dtype()\n",
    "    "
   ]
  },
  {
   "cell_type": "code",
   "execution_count": 115,
   "id": "e9a9c7f7-4e6a-4938-b2c8-b2ebfc9f8bfe",
   "metadata": {},
   "outputs": [
    {
     "name": "stdout",
     "output_type": "stream",
     "text": [
      "series : \n",
      "0    11\n",
      "1    22\n",
      "2    33\n",
      "3    44\n",
      "4    55\n",
      "dtype: int64 \n",
      "type = <class 'pandas.core.series.Series'>\n",
      "arr = [11 22 33 44 55] \n",
      "type = <class 'numpy.ndarray'>\n"
     ]
    }
   ],
   "source": [
    "#Q7\n",
    "def series_arr():\n",
    "    s1 = pd.Series([11,22,33,44,55])\n",
    "    a1 = s1.values\n",
    "    print(f\"series : \\n{s1} \\ntype = {type(s1)}\")\n",
    "    print(f\"arr = {a1} \\ntype = {type(a1)}\")\n",
    "series_arr()"
   ]
  },
  {
   "cell_type": "code",
   "execution_count": 102,
   "id": "7de25703-726c-46fe-8731-981c62e5227c",
   "metadata": {},
   "outputs": [
    {
     "name": "stdout",
     "output_type": "stream",
     "text": [
      "Dataframe = \n",
      "                          0\n",
      "Name                  Harsh\n",
      "empid                   434\n",
      "Company                BPCL\n",
      "Design   Production Officer\n"
     ]
    }
   ],
   "source": [
    "#Q8\n",
    "def create_dataframe():\n",
    "    s1 = pd.Series({'Name' : 'Harsh', 'empid' : 434, 'Company' : 'BPCL', 'Design' : 'Production Officer'})\n",
    "    df = pd.DataFrame(s1)\n",
    "    print(f\"Dataframe = \\n{df}\")\n",
    "create_dataframe()"
   ]
  },
  {
   "cell_type": "code",
   "execution_count": 132,
   "id": "502b6cd6-614e-411b-b58a-03b44c46271b",
   "metadata": {},
   "outputs": [
    {
     "name": "stdout",
     "output_type": "stream",
     "text": [
      "s1 : \n",
      "0     1\n",
      "1     2\n",
      "2     3\n",
      "3     4\n",
      "4     5\n",
      "5     6\n",
      "6     7\n",
      "7     8\n",
      "8     9\n",
      "9    10\n",
      "dtype: int64 Type = <class 'pandas.core.series.Series'>\n",
      "s2 : \n",
      "0        Harsh\n",
      "1        Abhay\n",
      "2        Ramya\n",
      "3      Rishabh\n",
      "4       Sanket\n",
      "5       Rutuja\n",
      "6        Mamta\n",
      "7      Krishna\n",
      "8    Priyanshu\n",
      "9       Nikhil\n",
      "dtype: object Type = <class 'pandas.core.series.Series'>\n",
      "All_recods : \n",
      "   empid       name\n",
      "0      1      Harsh\n",
      "1      2      Abhay\n",
      "2      3      Ramya\n",
      "3      4    Rishabh\n",
      "4      5     Sanket\n",
      "5      6     Rutuja\n",
      "6      7      Mamta\n",
      "7      8    Krishna\n",
      "8      9  Priyanshu\n",
      "9     10     Nikhil\n",
      "First_five_records : \n",
      "   empid     name\n",
      "0      1    Harsh\n",
      "1      2    Abhay\n",
      "2      3    Ramya\n",
      "3      4  Rishabh\n",
      "4      5   Sanket\n",
      "First_five_records : \n",
      "   empid       name\n",
      "5      6     Rutuja\n",
      "6      7      Mamta\n",
      "7      8    Krishna\n",
      "8      9  Priyanshu\n",
      "9     10     Nikhil\n",
      "First_two & last_two_records : \n",
      "   empid   name\n",
      "0      1  Harsh\n",
      "1      2  Abhay, \n",
      "   empid       name\n",
      "8      9  Priyanshu\n",
      "9     10     Nikhil\n",
      "5th_records : \n",
      "Sanket\n",
      "4th_records : \n",
      "empid         5\n",
      "name     Sanket\n",
      "Name: 4, dtype: object\n"
     ]
    }
   ],
   "source": [
    "#Q9_1,2&3\n",
    "def employees():\n",
    "    empid = [1,2,3,4,5,6,7,8,9,10]\n",
    "    name = ['Harsh','Abhay', 'Ramya', 'Rishabh', 'Sanket', 'Rutuja', 'Mamta', 'Krishna', 'Priyanshu', 'Nikhil']\n",
    "    s1 = pd.Series(empid)\n",
    "    s2 = pd.Series(name)\n",
    "\n",
    "    df = pd.DataFrame({\n",
    "        'empid' :s1,\n",
    "        'name' :s2\n",
    "    })\n",
    "\n",
    "    print(f\"s1 : \\n{s1} Type = {type(s1)}\")\n",
    "    print(f\"s2 : \\n{s2} Type = {type(s2)}\")\n",
    "    print(f\"All_recods : \\n{df}\")\n",
    "    print(f\"First_five_records : \\n{df.head(5)}\")\n",
    "    print(f\"First_five_records : \\n{df.tail(5)}\")\n",
    "    print(f\"First_two & last_two_records : \\n{df.head(2)}, \\n{df.tail(2)}\")\n",
    "    print(f\"5th_records : \\n{df.iloc[4]['name']}\")\n",
    "    print(f\"4th_records : \\n{df.iloc[4]}\")\n",
    "\n",
    "employees()\n",
    "\n",
    "         \n"
   ]
  },
  {
   "cell_type": "code",
   "execution_count": null,
   "id": "c85bab92-6e5b-4fab-a1a1-51cdca02ae9e",
   "metadata": {},
   "outputs": [],
   "source": [
    "\n"
   ]
  },
  {
   "cell_type": "code",
   "execution_count": null,
   "id": "e397c1d0-2a24-4915-bb01-f783fd0790c4",
   "metadata": {},
   "outputs": [],
   "source": []
  }
 ],
 "metadata": {
  "kernelspec": {
   "display_name": "Python 3 (ipykernel)",
   "language": "python",
   "name": "python3"
  },
  "language_info": {
   "codemirror_mode": {
    "name": "ipython",
    "version": 3
   },
   "file_extension": ".py",
   "mimetype": "text/x-python",
   "name": "python",
   "nbconvert_exporter": "python",
   "pygments_lexer": "ipython3",
   "version": "3.10.12"
  }
 },
 "nbformat": 4,
 "nbformat_minor": 5
}
